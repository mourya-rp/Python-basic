{
  "nbformat": 4,
  "nbformat_minor": 0,
  "metadata": {
    "colab": {
      "provenance": []
    },
    "kernelspec": {
      "name": "python3",
      "display_name": "Python 3"
    },
    "language_info": {
      "name": "python"
    }
  },
  "cells": [
    {
      "cell_type": "markdown",
      "source": [
        "\n",
        "\n"
      ],
      "metadata": {
        "id": "u9em_-muZzy7"
      }
    },
    {
      "cell_type": "markdown",
      "source": [
        "# PYTHON BASIC\n",
        "1 . WHAT IS PYTHON AND WHY IS IT POPULAR ?\n",
        "- Python is a programming language used to interact with the computer.\n",
        "\n",
        "Reasons for it's popularity :  \n",
        "\n",
        "- Because of it's ease of learning .\n",
        "-It's versatile nature has application spanning web development , machine learning , back end and many more .\n",
        "- Readability\n",
        "- Python has a lot of libraries which makes it efficient in doing repetitive tasks ( numpy , pandas etc )\n",
        "- Python has a huge active community that contributes to it's wide adoption and development .\n",
        "\n",
        "2 . WHAT IS AN INTERPRETER IN PYTHON ?\n",
        "- python interpreter is a program that converts python code into machine - readable instructions and runs them , enabling you to execute python scripts and view results instantly . It acts as a bridge between the high level python code you write and low level instructions that the computer can directly utilize .\n",
        "- A python interpreter reads and runs the code one line at a time . Unike a compiler , which translates the whole program before running it , an interpreter works step by step . eg ( Cpython )\n",
        "\n",
        "3 . What are pre defined key words in python ?\n",
        "- predefined keywords are the words that hold special meaning and have specific purpose .\n",
        "eg :  print , type .\n",
        "\n",
        "4 . Can key words be used as variable names ?\n",
        "- No , because a variable starts with a letter (alphabet) or underscore character ,it should not be a keyword .\n",
        "\n",
        "5 . what is mutability in python ?\n",
        "- Objects/container whose state or value can be changed after they are created are called as mutable objects or container , also called as item assignment . This is the concept of mutability , which means change .\n",
        "\n",
        "6 . why are lists mutable and tuples immutable ?\n",
        "- List is a type of mutable object because it suppports item assignment whereas tuple is a type of immutable object because it doesn't support item assignment .\n",
        "\n",
        "7 . What is the difference between \"==\" and \"is\" operators in Python ?\n",
        "-  \"==\" is a comparison operator where we want to compare 2 values and return a boolean value ( True ) , whereas \"is' is an identity operator where it compares the location of two object/variables .\n",
        "\n",
        "8 . What are logical operators in Python ?\n",
        "-  Logical operators are AND , OR and NOT\n",
        "\n",
        "9 . What is type casting in Python ?\n",
        "-  Type casting is the process of changing the data type of a value / object .\n",
        "\n",
        "10 . What is the difference between implicit and explicit type casting ?\n",
        "-  Implicit :  Here Python understands the data type ( unlike other programming languages where we have to explicitly mention ) . This is implicit type casting .\n",
        "-  Explicit :  Here we convert the data type using inbuilt function for example str , int , float , bool .\n",
        "\n",
        "11 . What is the purpose of conditional statements in Python ?\n",
        "-  The purpose of conditonal statements is to help you create decisions based on some pre conditions .\n",
        "\n",
        "12 . How does elif statement work ?\n",
        "-  elif is used when there are multiple conditions for something to happen .  \n",
        "   syntax :    \n",
        "   #if some conditon\n",
        "    #  elif some condition\n",
        "   #else\n",
        "\n",
        "13 . What is the difference between for and while loops ?\n",
        "-  while loop repeatedly executes a block of code until a condition is met .\n",
        "-  For loop iterates over a sequence of elements >> eg on sequential data like strings and lists .\n",
        "\n",
        "14 . Describe a scenario where while loop is more suitable than a for loop ?\n",
        "-  A While loop as an iteration method is used when we don't know the number of iterations ahead of time .\n",
        "-  and a For loop is best used when we know the number of iterations ahead of time .\n"
      ],
      "metadata": {
        "id": "5D1YObYZ0xkx"
      }
    },
    {
      "cell_type": "markdown",
      "source": [],
      "metadata": {
        "id": "hGeCOKJgchl9"
      }
    },
    {
      "cell_type": "markdown",
      "source": [],
      "metadata": {
        "id": "SZZCcNWAZT5K"
      }
    },
    {
      "cell_type": "code",
      "source": [
        "print(\"Hello, World !!\")  # 1. Write a python program to print \" Hello, World!\""
      ],
      "metadata": {
        "colab": {
          "base_uri": "https://localhost:8080/"
        },
        "id": "1SJz94V_BwWn",
        "outputId": "090d9729-84a2-4399-e286-dfc31cb62b9e"
      },
      "execution_count": null,
      "outputs": [
        {
          "output_type": "stream",
          "name": "stdout",
          "text": [
            "Hello, World !!\n"
          ]
        }
      ]
    },
    {
      "cell_type": "code",
      "source": [
        "print(\"Name : Mourya Reddy\\nAge : 27\")  # 2. Write a python program that displays your name and age ."
      ],
      "metadata": {
        "colab": {
          "base_uri": "https://localhost:8080/"
        },
        "id": "ekzXz5aYCOBT",
        "outputId": "8eab057a-d1e1-43cb-b0b9-7311e5e2115e"
      },
      "execution_count": null,
      "outputs": [
        {
          "output_type": "stream",
          "name": "stdout",
          "text": [
            "Name : Mourya Reddy\n",
            "Age : 27\n"
          ]
        }
      ]
    },
    {
      "cell_type": "code",
      "source": [
        "help(\"keywords\")  # 3. Write a code to print all the pre-defined keywords in python using the keyword library ."
      ],
      "metadata": {
        "colab": {
          "base_uri": "https://localhost:8080/"
        },
        "id": "c5Rj_emVDYzn",
        "outputId": "3dc4bd5a-ef88-4c65-d6f7-09fee5f95508"
      },
      "execution_count": null,
      "outputs": [
        {
          "output_type": "stream",
          "name": "stdout",
          "text": [
            "\n",
            "Here is a list of the Python keywords.  Enter any keyword to get more help.\n",
            "\n",
            "False               class               from                or\n",
            "None                continue            global              pass\n",
            "True                def                 if                  raise\n",
            "and                 del                 import              return\n",
            "as                  elif                in                  try\n",
            "assert              else                is                  while\n",
            "async               except              lambda              with\n",
            "await               finally             nonlocal            yield\n",
            "break               for                 not                 \n",
            "\n"
          ]
        }
      ]
    },
    {
      "cell_type": "code",
      "source": [
        "# 4. write a program that checks if a given word is a python key word .\n",
        "import keyword\n",
        "a = 'while'\n",
        "if a in keyword.kwlist:\n",
        "  print(\"It is a keyword\")\n",
        "else:\n",
        "  print(\"It is not a keyword\")\n"
      ],
      "metadata": {
        "colab": {
          "base_uri": "https://localhost:8080/"
        },
        "id": "F6MTwp3mDlZB",
        "outputId": "4e22ea52-aea1-4134-b99b-26f97d7d3125"
      },
      "execution_count": null,
      "outputs": [
        {
          "output_type": "stream",
          "name": "stdout",
          "text": [
            "It is a keyword\n"
          ]
        }
      ]
    },
    {
      "cell_type": "code",
      "source": [
        "#5. Create a list and tuple in Python, and demonstrate how attempting to change an element works differently for each .\n",
        "List = [ 1,2,3,4 ]\n",
        "List[0] = \"Mourya\"\n",
        "List\n",
        "\n"
      ],
      "metadata": {
        "colab": {
          "base_uri": "https://localhost:8080/"
        },
        "id": "cWIYMDlIH5lD",
        "outputId": "b0d80766-1421-4bd2-cc5c-822266332c10"
      },
      "execution_count": null,
      "outputs": [
        {
          "output_type": "execute_result",
          "data": {
            "text/plain": [
              "['Mourya', 2, 3, 4]"
            ]
          },
          "metadata": {},
          "execution_count": 16
        }
      ]
    },
    {
      "cell_type": "code",
      "source": [
        "Tuple(1,2,3,4)\n",
        "Tuple[0] = \"Mourya\"\n",
        "Tuple"
      ],
      "metadata": {
        "colab": {
          "base_uri": "https://localhost:8080/",
          "height": 173
        },
        "id": "OA-DoLlXJcjh",
        "outputId": "c583befd-7b43-449c-bc52-924af8d2772d"
      },
      "execution_count": null,
      "outputs": [
        {
          "output_type": "error",
          "ename": "TypeError",
          "evalue": "'tuple' object is not callable",
          "traceback": [
            "\u001b[0;31m---------------------------------------------------------------------------\u001b[0m",
            "\u001b[0;31mTypeError\u001b[0m                                 Traceback (most recent call last)",
            "\u001b[0;32m/tmp/ipython-input-17-3487334761.py\u001b[0m in \u001b[0;36m<cell line: 0>\u001b[0;34m()\u001b[0m\n\u001b[0;32m----> 1\u001b[0;31m \u001b[0mTuple\u001b[0m\u001b[0;34m(\u001b[0m\u001b[0;36m1\u001b[0m\u001b[0;34m,\u001b[0m\u001b[0;36m2\u001b[0m\u001b[0;34m,\u001b[0m\u001b[0;36m3\u001b[0m\u001b[0;34m,\u001b[0m\u001b[0;36m4\u001b[0m\u001b[0;34m)\u001b[0m\u001b[0;34m\u001b[0m\u001b[0;34m\u001b[0m\u001b[0m\n\u001b[0m\u001b[1;32m      2\u001b[0m \u001b[0mTuple\u001b[0m\u001b[0;34m[\u001b[0m\u001b[0;36m0\u001b[0m\u001b[0;34m]\u001b[0m \u001b[0;34m=\u001b[0m \u001b[0;34m\"Mourya\"\u001b[0m\u001b[0;34m\u001b[0m\u001b[0;34m\u001b[0m\u001b[0m\n\u001b[1;32m      3\u001b[0m \u001b[0mTuple\u001b[0m\u001b[0;34m\u001b[0m\u001b[0;34m\u001b[0m\u001b[0m\n",
            "\u001b[0;31mTypeError\u001b[0m: 'tuple' object is not callable"
          ]
        }
      ]
    },
    {
      "cell_type": "code",
      "source": [
        "#6. Write a function to demonstrate the behaviour of mutable and immutable arguments .\n",
        "List = [\"Mourya\" , \"Ajay\", \"Bijay\" , \"saket\"]\n",
        "List[1] = \"Mahesh\"\n",
        "List\n",
        "# List is muutable , i.e we can assign a object"
      ],
      "metadata": {
        "colab": {
          "base_uri": "https://localhost:8080/"
        },
        "id": "SGHJrUtQJj51",
        "outputId": "461ced15-d845-45f3-b2d7-cf3aed978c65"
      },
      "execution_count": null,
      "outputs": [
        {
          "output_type": "execute_result",
          "data": {
            "text/plain": [
              "['Mourya', 'Mahesh', 'Bijay', 'saket']"
            ]
          },
          "metadata": {},
          "execution_count": 19
        }
      ]
    },
    {
      "cell_type": "code",
      "source": [
        "Str = \"Mourya\"\n",
        "Str[1] = \"a\" # Str is immutable as it a string ."
      ],
      "metadata": {
        "colab": {
          "base_uri": "https://localhost:8080/",
          "height": 156
        },
        "id": "Z6OOQ-iyLK9v",
        "outputId": "b01418cb-d725-4a7c-9942-bf44a5b135db"
      },
      "execution_count": null,
      "outputs": [
        {
          "output_type": "error",
          "ename": "TypeError",
          "evalue": "'str' object does not support item assignment",
          "traceback": [
            "\u001b[0;31m---------------------------------------------------------------------------\u001b[0m",
            "\u001b[0;31mTypeError\u001b[0m                                 Traceback (most recent call last)",
            "\u001b[0;32m/tmp/ipython-input-20-372659259.py\u001b[0m in \u001b[0;36m<cell line: 0>\u001b[0;34m()\u001b[0m\n\u001b[1;32m      1\u001b[0m \u001b[0mStr\u001b[0m \u001b[0;34m=\u001b[0m \u001b[0;34m\"Mourya\"\u001b[0m\u001b[0;34m\u001b[0m\u001b[0;34m\u001b[0m\u001b[0m\n\u001b[0;32m----> 2\u001b[0;31m \u001b[0mStr\u001b[0m\u001b[0;34m[\u001b[0m\u001b[0;36m1\u001b[0m\u001b[0;34m]\u001b[0m \u001b[0;34m=\u001b[0m \u001b[0;34m\"a\"\u001b[0m\u001b[0;34m\u001b[0m\u001b[0;34m\u001b[0m\u001b[0m\n\u001b[0m",
            "\u001b[0;31mTypeError\u001b[0m: 'str' object does not support item assignment"
          ]
        }
      ]
    },
    {
      "cell_type": "code",
      "source": [
        "# 7. Write a program that performs basic arithmetic operations on two user input numbers .\n",
        "num1 = int(input('Enter first number : '))\n",
        "num2 = int(input('Enter second number : '))\n",
        "print('Addition : ',num1+num2)\n",
        "print('Subtraction : ',num1-num2)\n",
        "print('Multiplication : ',num1*num2)\n",
        "print('Division : ',num1/num2)"
      ],
      "metadata": {
        "id": "TyiEzihRPjoA",
        "colab": {
          "base_uri": "https://localhost:8080/"
        },
        "outputId": "583549c6-700b-4ef7-b8be-d5371e28b733"
      },
      "execution_count": null,
      "outputs": [
        {
          "output_type": "stream",
          "name": "stdout",
          "text": [
            "Enter first number : 5\n",
            "Enter second number : 4\n",
            "Addition :  9\n",
            "Subtraction :  1\n",
            "Multiplication :  20\n",
            "Division :  1.25\n"
          ]
        }
      ]
    },
    {
      "cell_type": "code",
      "source": [
        "# 8. Write a program to demonstrate the use of logical operators .\n",
        "x, y, = True, False\n",
        "print(x and y) # Logical And (both conditions must be true for it to be true )\n",
        "print(x or y)  # Logical Or ( atleast one condition must be true for it be true )\n",
        "print(not x)   # Logical Not ( reverses the condition , i.e true to false and vice versa )"
      ],
      "metadata": {
        "id": "lM-sEEjzSdiY",
        "colab": {
          "base_uri": "https://localhost:8080/"
        },
        "outputId": "17ce5024-896c-4b6a-fafb-bcd5793475ff"
      },
      "execution_count": null,
      "outputs": [
        {
          "output_type": "stream",
          "name": "stdout",
          "text": [
            "False\n",
            "True\n",
            "False\n"
          ]
        }
      ]
    },
    {
      "cell_type": "code",
      "source": [
        "# 9. write a python program to convert user input from string to integer, float and boolean types.\n",
        "a = input(\"Enter a number : \")\n",
        "print(type(a))\n",
        "a = int(a)\n",
        "print(type(a))\n",
        "a = float(a)\n",
        "print(type(a))\n",
        "a = bool(a)\n",
        "print(type(a))\n"
      ],
      "metadata": {
        "colab": {
          "base_uri": "https://localhost:8080/"
        },
        "id": "_GV9Ra5rSVXG",
        "outputId": "88fd6cf0-81a7-41c7-8d85-5acb357be6b7"
      },
      "execution_count": null,
      "outputs": [
        {
          "output_type": "stream",
          "name": "stdout",
          "text": [
            "Enter a number : 5\n",
            "<class 'str'>\n",
            "<class 'int'>\n",
            "<class 'float'>\n",
            "<class 'bool'>\n"
          ]
        }
      ]
    },
    {
      "cell_type": "code",
      "source": [
        "# 10. write a code to demonstrate type casting with list elements .\n",
        "List = [\"1\",2 ,\"mourya\", 4]\n",
        "type(List[0])\n",
        "List[0]= int(List[0])\n",
        "type(List[0])\n",
        "\n"
      ],
      "metadata": {
        "colab": {
          "base_uri": "https://localhost:8080/"
        },
        "id": "g2Y76UegSr77",
        "outputId": "bdf8b102-8209-42b2-be31-2d549e3b4737"
      },
      "execution_count": null,
      "outputs": [
        {
          "output_type": "execute_result",
          "data": {
            "text/plain": [
              "int"
            ]
          },
          "metadata": {},
          "execution_count": 9
        }
      ]
    },
    {
      "cell_type": "code",
      "source": [
        "# 11. write a program that checks if the a number is positive , negative or zero .\n",
        "num = float(input(\"Enter a number : \"))\n",
        "if num > 0:\n",
        "  print(\"Positive\")\n",
        "elif num < 0:\n",
        "  print(\"Negative\")\n",
        "else:\n",
        "  print(\"Zero\")"
      ],
      "metadata": {
        "colab": {
          "base_uri": "https://localhost:8080/"
        },
        "id": "ezIgAyk-S4o5",
        "outputId": "78dbea54-0167-469b-f85f-49f5d30c8516"
      },
      "execution_count": null,
      "outputs": [
        {
          "output_type": "stream",
          "name": "stdout",
          "text": [
            "Enter a number : 2\n",
            "Positive\n"
          ]
        }
      ]
    },
    {
      "cell_type": "code",
      "source": [
        "# 12. write a for loop to print numbers from 1 to 10\n",
        "n = 10\n",
        "for i in range(1,n+1):\n",
        "  print(i)"
      ],
      "metadata": {
        "colab": {
          "base_uri": "https://localhost:8080/"
        },
        "id": "LBkjNSXuTI1L",
        "outputId": "7f1f5d2d-3c81-4392-8eea-b062296df82c"
      },
      "execution_count": null,
      "outputs": [
        {
          "output_type": "stream",
          "name": "stdout",
          "text": [
            "1\n",
            "2\n",
            "3\n",
            "4\n",
            "5\n",
            "6\n",
            "7\n",
            "8\n",
            "9\n",
            "10\n"
          ]
        }
      ]
    },
    {
      "cell_type": "code",
      "source": [
        "# 13. Write a python program to find the sum of all even numbers between 1 and 50 .\n",
        "sum = 0\n",
        "for i in range(1,51):\n",
        "  if i%2 == 0:\n",
        "    sum += i\n",
        "print(sum)"
      ],
      "metadata": {
        "colab": {
          "base_uri": "https://localhost:8080/"
        },
        "id": "d2Seuz3hTRvP",
        "outputId": "dc75aa4b-596b-4164-f11a-5afdc19eec6b"
      },
      "execution_count": null,
      "outputs": [
        {
          "output_type": "stream",
          "name": "stdout",
          "text": [
            "650\n"
          ]
        }
      ]
    },
    {
      "cell_type": "code",
      "source": [
        "# 14. write a program to reverse a string using a loop .\n",
        "a = \"MouryaReddy\"\n",
        "Rev = \" \"\n",
        "for i in a:\n",
        "  Rev = i + Rev\n",
        "print(Rev)"
      ],
      "metadata": {
        "colab": {
          "base_uri": "https://localhost:8080/"
        },
        "id": "ndohekFcUojP",
        "outputId": "260b8f54-d3d9-4a3a-8cdb-162902b4445a"
      },
      "execution_count": null,
      "outputs": [
        {
          "output_type": "stream",
          "name": "stdout",
          "text": [
            "yddeRayruoM \n"
          ]
        }
      ]
    },
    {
      "cell_type": "code",
      "source": [
        "# 15. write a python program to calculate the factorial of a number provided by the user using a while loop.\n",
        "num = int(input(\"Enter a number : \"))\n",
        "fact = 1\n",
        "while num > 0:\n",
        "  fact *= num\n",
        "  num -= 1\n",
        "print(fact)\n",
        "\n"
      ],
      "metadata": {
        "colab": {
          "base_uri": "https://localhost:8080/"
        },
        "id": "P1eaW5GjUxWA",
        "outputId": "59059a16-4e2c-4f54-879b-2da8b01f7bb8"
      },
      "execution_count": null,
      "outputs": [
        {
          "output_type": "stream",
          "name": "stdout",
          "text": [
            "Enter a number : 4\n",
            "24\n"
          ]
        }
      ]
    }
  ]
}